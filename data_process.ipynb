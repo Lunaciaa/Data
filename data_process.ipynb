{
 "cells": [
  {
   "cell_type": "markdown",
   "metadata": {},
   "source": [
    "**# IMPORT THƯ VIỆN**\n"
   ]
  },
  {
   "cell_type": "code",
   "execution_count": 2,
   "metadata": {},
   "outputs": [],
   "source": [
    "import pandas as pd\n",
    "import numpy as np\n",
    "from IPython.display import display\n",
    "pd.set_option('display.max_columns', None)\n",
    "pd.set_option(\"max_colwidth\", None)\n",
    "pd.set_option(\"max_seq_items\", None)\n",
    "pd.set_option('display.max_rows', None)"
   ]
  },
  {
   "cell_type": "markdown",
   "metadata": {},
   "source": [
    "**# IMPORT DATA**"
   ]
  },
  {
   "cell_type": "code",
   "execution_count": 3,
   "metadata": {},
   "outputs": [],
   "source": [
    "inputData = pd.read_excel('Raw_data.xlsm', sheet_name= 'ExportData')\n",
    "rawData = inputData"
   ]
  },
  {
   "cell_type": "markdown",
   "metadata": {},
   "source": [
    "**# CHANGE NAME**"
   ]
  },
  {
   "cell_type": "code",
   "execution_count": 4,
   "metadata": {},
   "outputs": [],
   "source": [
    "nameChange = {\n",
    "    1: 'TICKER', 2: 'NAME', 3: 'EXCHANGE', 4: 'BUSINESS-TYPE'\n",
    "}\n",
    "for z in nameChange.keys():\n",
    "    inputData = inputData.rename(columns={inputData.columns[z]: nameChange.get(z)})\n",
    "name = ['Cash-', 'TASSETS-', 'LIABILITES-','EQUITIES-', 'GROSSPROFIT-', 'NI-']\n",
    "year= [2010,2011,2012,2013,2014,2015,2016,2017,2018,2019,2020]\n",
    "x = 5\n",
    "for i in name:\n",
    "    for j in year:\n",
    "        inputData = inputData.rename(columns={inputData.columns[x]: i + str(j)})\n",
    "        x+=1   "
   ]
  },
  {
   "cell_type": "code",
   "execution_count": 5,
   "metadata": {},
   "outputs": [],
   "source": [
    "preData = pd.DataFrame()\n",
    "for i in range(0,71):\n",
    "    temp = inputData[inputData.columns[i]]\n",
    "    preData = pd.concat([preData,temp], axis= 'columns')\n",
    "preData = preData.drop(range(1737,1752))\n",
    "preData = preData.drop(0)"
   ]
  },
  {
   "cell_type": "code",
   "execution_count": 6,
   "metadata": {},
   "outputs": [],
   "source": [
    "Ticker = preData[['TICKER','EXCHANGE']] "
   ]
  },
  {
   "cell_type": "code",
   "execution_count": 43,
   "metadata": {},
   "outputs": [],
   "source": [
    "preData.to_excel('output.xlsx')"
   ]
  },
  {
   "cell_type": "code",
   "execution_count": null,
   "metadata": {},
   "outputs": [],
   "source": [
    "onlyTicker = preData['TICKER']\n",
    "onlyTicker.to_csv('ticker.csv',index= False, header= False)"
   ]
  }
 ],
 "metadata": {
  "kernelspec": {
   "display_name": "Python 3.10.4 64-bit",
   "language": "python",
   "name": "python3"
  },
  "language_info": {
   "codemirror_mode": {
    "name": "ipython",
    "version": 3
   },
   "file_extension": ".py",
   "mimetype": "text/x-python",
   "name": "python",
   "nbconvert_exporter": "python",
   "pygments_lexer": "ipython3",
   "version": "3.10.4"
  },
  "orig_nbformat": 4,
  "vscode": {
   "interpreter": {
    "hash": "e450050b432e843bda3c41bf3272c133bfc370a7003f3e377e27f87a49ce1127"
   }
  }
 },
 "nbformat": 4,
 "nbformat_minor": 2
}
